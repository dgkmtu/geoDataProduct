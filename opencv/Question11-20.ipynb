{
 "cells": [
  {
   "cell_type": "code",
   "execution_count": null,
   "metadata": {},
   "outputs": [],
   "source": [
    "import numpy as np\n",
    "import matplotlib.pyplot as plt\n",
    "import cv2\n",
    "from skimage import io\n",
    "\n",
    "img_orig = io.imread('./img/fish01.jpg')\n",
    "img_gray = cv2.cvtColor(img_orig, cv2.COLOR_RGB2GRAY)\n",
    "\n",
    "plt.figure(figsize=(12, 4))\n",
    "plt.subplot(1, 2, 1); plt.imshow(img_orig); plt.title('orig')\n",
    "plt.subplot(1, 2, 2); plt.imshow(img_gray, cmap='gray'); plt.title('gray')\n",
    "plt.show()"
   ]
  },
  {
   "cell_type": "markdown",
   "metadata": {},
   "source": [
    "## Q.11. 平滑化フィルタ, Smoothing filter\n",
    "平滑化フィルタはフィルタ内の画素の平均値を出力するフィルタ"
   ]
  },
  {
   "cell_type": "code",
   "execution_count": null,
   "metadata": {},
   "outputs": [],
   "source": [
    "img_smoth = cv2.blur(img_orig, (5, 5))\n",
    "\n",
    "plt.figure(figsize=(12, 4))\n",
    "plt.subplot(1, 2, 1); plt.title('input'); plt.imshow(img_orig)\n",
    "plt.subplot(1, 2, 2); plt.title('answer'); plt.imshow(img_smoth)\n",
    "plt.show()"
   ]
  },
  {
   "cell_type": "markdown",
   "metadata": {},
   "source": [
    "### カーネルサイズを変えてみる\n",
    "カーネルサイズを大きくすると、ノイズが消えると同時に画像がぼやけるようになる。"
   ]
  },
  {
   "cell_type": "code",
   "execution_count": null,
   "metadata": {},
   "outputs": [],
   "source": [
    "img_smooth = cv2.blur(img_orig, (9, 9))\n",
    "\n",
    "plt.figure(figsize=(12, 4))\n",
    "plt.subplot(1, 2, 1); plt.title('input'); plt.imshow(img_orig)\n",
    "plt.subplot(1, 2, 2); plt.title('answer'); plt.imshow(img_smooth)\n",
    "plt.show()"
   ]
  },
  {
   "cell_type": "code",
   "execution_count": null,
   "metadata": {},
   "outputs": [],
   "source": []
  }
 ],
 "metadata": {
  "kernelspec": {
   "display_name": "Python 3",
   "language": "python",
   "name": "python3"
  },
  "language_info": {
   "codemirror_mode": {
    "name": "ipython",
    "version": 3
   },
   "file_extension": ".py",
   "mimetype": "text/x-python",
   "name": "python",
   "nbconvert_exporter": "python",
   "pygments_lexer": "ipython3",
   "version": "3.7.4"
  }
 },
 "nbformat": 4,
 "nbformat_minor": 4
}
