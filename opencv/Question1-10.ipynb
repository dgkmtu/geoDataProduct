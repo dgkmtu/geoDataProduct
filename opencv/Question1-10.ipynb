{
 "cells": [
  {
   "cell_type": "code",
   "execution_count": null,
   "metadata": {},
   "outputs": [],
   "source": [
    "import numpy as np\n",
    "import matplotlib.pyplot as plt\n",
    "import cv2\n",
    "from skimage import io\n",
    "\n",
    "img_orig = io.imread(\"img/fish01.jpg\")\n",
    "\n",
    "plt.imshow(img_orig)\n",
    "plt.show()"
   ]
  },
  {
   "cell_type": "markdown",
   "metadata": {},
   "source": [
    "## Q.1. チャネル入れ替え\n",
    "画像を読み込み、RGBをBGRに入れ替える。"
   ]
  },
  {
   "cell_type": "code",
   "execution_count": null,
   "metadata": {},
   "outputs": [],
   "source": [
    "def rgb2bgr(img):\n",
    "    return img[..., ::-1]\n",
    "\n",
    "img_bgr = rgb2bgr(img_orig)\n",
    "\n",
    "plt.figure(figsize=(12, 4))\n",
    "plt.subplot(1, 2, 1); plt.title('input'); plt.imshow(img_orig)\n",
    "plt.subplot(1, 2, 2); plt.title('answer'); plt.imshow(img_bgr)\n",
    "plt.show()"
   ]
  },
  {
   "cell_type": "markdown",
   "metadata": {},
   "source": [
    "## Q.2. グレースケール Grayscale\n",
    "画像をグレースケールにする。グレースケールは以下の式で表される。\n",
    "```math\n",
    "Grayscale = 0.2126R + 0.7152G + 0.0722B\n",
    "```"
   ]
  },
  {
   "cell_type": "code",
   "execution_count": null,
   "metadata": {},
   "outputs": [],
   "source": [
    "img_gray = cv2.cvtColor(img_orig, cv2.COLOR_RGB2GRAY)\n",
    "\n",
    "plt.figure(figsize=(12, 4))\n",
    "plt.subplot(1, 2, 1); plt.title('input'); plt.imshow(img_orig)\n",
    "plt.subplot(1, 2, 2); plt.title('answer'); plt.imshow(img_gray, cmap='gray')\n",
    "plt.show()"
   ]
  },
  {
   "cell_type": "markdown",
   "metadata": {},
   "source": [
    "## Q.3. 二値化, Binarization\n",
    "画像を二値化する。二値化とは、画像を特定の値を閾値として黒と白の二値で表現する方法。\n",
    " 1. グレースケール化\n",
    " 2. 閾値を110にして二値化"
   ]
  },
  {
   "cell_type": "code",
   "execution_count": null,
   "metadata": {},
   "outputs": [],
   "source": [
    "img_gray = cv2.cvtColor(img_orig, cv2.COLOR_RGB2GRAY)\n",
    "th, img_bin = cv2.threshold(img_gray, 110, 255, cv2.THRESH_BINARY)\n",
    "\n",
    "plt.figure(figsize=(12, 4))\n",
    "plt.subplot(1, 3, 1); plt.title('input'); plt.imshow(img_orig)\n",
    "plt.subplot(1, 3, 2); plt.title('gray'); plt.imshow(img_gray, cmap='gray')\n",
    "plt.subplot(1, 3, 3); plt.title('answer'); plt.imshow(img_bin, cmap='gray')\n",
    "plt.show()"
   ]
  },
  {
   "cell_type": "markdown",
   "metadata": {},
   "source": [
    "## Q.4. 大津の二値化, Otsu's binarization\n",
    "大津の二値化を実装する。\n",
    "1. グレースケール化\n",
    "2. 大津の二値化 \\\n",
    "大津の二値化とは判別分析法と呼ばれ、二値化における分離の閾値を自動決定する教師なし手法であるこれはクラス内分散とクラス間分散の比から計算される。"
   ]
  },
  {
   "cell_type": "code",
   "execution_count": null,
   "metadata": {},
   "outputs": [],
   "source": [
    "th, img_bin = cv2.threshold(img_gray, 0, 255, cv2.THRESH_BINARY + cv2.THRESH_OTSU)\n",
    "print('threshold >>', th)\n",
    "\n",
    "plt.figure(figsize=(12, 4))\n",
    "plt.subplot(1, 3, 1); plt.title('input'); plt.imshow(img_orig)\n",
    "plt.subplot(1, 3, 2); plt.title('gray'); plt.imshow(img_gray, cmap='gray')\n",
    "plt.subplot(1, 3, 3); plt.title('answer'); plt.imshow(img_bin, cmap='gray')\n",
    "plt.show()"
   ]
  },
  {
   "cell_type": "markdown",
   "metadata": {},
   "source": [
    "## HSV変換, HSV transformation\n",
    "HSV変換を実装して、色相Hを反転する。"
   ]
  },
  {
   "cell_type": "code",
   "execution_count": null,
   "metadata": {},
   "outputs": [],
   "source": [
    "hsv = cv2.cvtColor(img_orig, cv2.COLOR_RGB2HSV) # RGB -> HSV\n",
    "hsv[..., 0] = (hsv[..., 0] + 90) % 180 # Hue of opencv is defined [0, 180]\n",
    "img_hsv = cv2.cvtColor(hsv, cv2.COLOR_HSV2RGB) # HSV -> RGB\n",
    "\n",
    "plt.figure(figsize=(12, 4))\n",
    "plt.subplot(1, 2, 1); plt.title('input'); plt.imshow(img_orig)\n",
    "plt.subplot(1, 2, 2); plt.title('answer'); plt.imshow(img_hsv)\n",
    "plt.show()"
   ]
  },
  {
   "cell_type": "code",
   "execution_count": null,
   "metadata": {},
   "outputs": [],
   "source": []
  }
 ],
 "metadata": {
  "kernelspec": {
   "display_name": "Python 3",
   "language": "python",
   "name": "python3"
  },
  "language_info": {
   "codemirror_mode": {
    "name": "ipython",
    "version": 3
   },
   "file_extension": ".py",
   "mimetype": "text/x-python",
   "name": "python",
   "nbconvert_exporter": "python",
   "pygments_lexer": "ipython3",
   "version": "3.7.4"
  }
 },
 "nbformat": 4,
 "nbformat_minor": 4
}
