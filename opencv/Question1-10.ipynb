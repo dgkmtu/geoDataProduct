{
 "cells": [
  {
   "cell_type": "code",
   "execution_count": null,
   "metadata": {},
   "outputs": [],
   "source": [
    "import numpy as np\n",
    "import matplotlib.pyplot as plt\n",
    "from matplotlib import cm\n",
    "import cv2\n",
    "from skimage import io\n",
    "\n",
    "img_orig = io.imread(\"img/fish01.jpg\")\n",
    "\n",
    "plt.imshow(img_orig)\n",
    "plt.show()"
   ]
  },
  {
   "cell_type": "markdown",
   "metadata": {},
   "source": [
    "## Q.1. チャネル入れ替え\n",
    "画像を読み込み、RGBをBGRに入れ替える。"
   ]
  },
  {
   "cell_type": "code",
   "execution_count": null,
   "metadata": {},
   "outputs": [],
   "source": [
    "def rgb2bgr(img):\n",
    "    return img[..., ::-1]\n",
    "\n",
    "img_bgr = rgb2bgr(img_orig)\n",
    "\n",
    "plt.figure(figsize=(12, 4))\n",
    "plt.subplot(1, 2, 1); plt.title('input'); plt.imshow(img_orig)\n",
    "plt.subplot(1, 2, 2); plt.title('answer'); plt.imshow(img_bgr)\n",
    "plt.show()"
   ]
  },
  {
   "cell_type": "markdown",
   "metadata": {},
   "source": [
    "## Q.2. グレースケール Grayscale\n",
    "画像をグレースケールにする。グレースケールは以下の式で表される。\n",
    "```math\n",
    "Grayscale = 0.2126R + 0.7152G + 0.0722B\n",
    "```"
   ]
  },
  {
   "cell_type": "code",
   "execution_count": null,
   "metadata": {},
   "outputs": [],
   "source": [
    "img_gray = cv2.cvtColor(img_orig, cv2.COLOR_RGB2GRAY)\n",
    "\n",
    "plt.figure(figsize=(12, 4))\n",
    "plt.subplot(1, 2, 1); plt.title('input'); plt.imshow(img_orig)\n",
    "plt.subplot(1, 2, 2); plt.title('answer'); plt.imshow(img_gray, cmap='gray')\n",
    "plt.show()"
   ]
  },
  {
   "cell_type": "markdown",
   "metadata": {},
   "source": [
    "## Q.3. 二値化, Binarization\n",
    "画像を二値化する。二値化とは、画像を特定の値を閾値として黒と白の二値で表現する方法。\n",
    " 1. グレースケール化\n",
    " 2. 閾値を110にして二値化"
   ]
  },
  {
   "cell_type": "code",
   "execution_count": null,
   "metadata": {},
   "outputs": [],
   "source": [
    "img_gray = cv2.cvtColor(img_orig, cv2.COLOR_RGB2GRAY)\n",
    "th, img_bin = cv2.threshold(img_gray, 110, 255, cv2.THRESH_BINARY)\n",
    "\n",
    "plt.figure(figsize=(12, 4))\n",
    "plt.subplot(1, 3, 1); plt.title('input'); plt.imshow(img_orig)\n",
    "plt.subplot(1, 3, 2); plt.title('gray'); plt.imshow(img_gray, cmap='gray')\n",
    "plt.subplot(1, 3, 3); plt.title('answer'); plt.imshow(img_bin, cmap='gray')\n",
    "plt.show()"
   ]
  },
  {
   "cell_type": "markdown",
   "metadata": {},
   "source": [
    "## Q.4. 大津の二値化, Otsu's binarization\n",
    "大津の二値化を実装する。\n",
    "1. グレースケール化\n",
    "2. 大津の二値化 \\\n",
    "大津の二値化とは判別分析法と呼ばれ、二値化における分離の閾値を自動決定する教師なし手法であるこれはクラス内分散とクラス間分散の比から計算される。"
   ]
  },
  {
   "cell_type": "code",
   "execution_count": null,
   "metadata": {},
   "outputs": [],
   "source": [
    "th, img_bin = cv2.threshold(img_gray, 0, 255, cv2.THRESH_BINARY + cv2.THRESH_OTSU)\n",
    "print('threshold >>', th)\n",
    "\n",
    "plt.figure(figsize=(12, 4))\n",
    "plt.subplot(1, 3, 1); plt.title('input'); plt.imshow(img_orig)\n",
    "plt.subplot(1, 3, 2); plt.title('gray'); plt.imshow(img_gray, cmap='gray')\n",
    "plt.subplot(1, 3, 3); plt.title('answer'); plt.imshow(img_bin, cmap='gray')\n",
    "plt.show()"
   ]
  },
  {
   "cell_type": "markdown",
   "metadata": {},
   "source": [
    "## Q.5. HSV変換, HSV transformation\n",
    "HSV変換を実装して、色相Hを反転する。"
   ]
  },
  {
   "cell_type": "code",
   "execution_count": null,
   "metadata": {},
   "outputs": [],
   "source": [
    "hsv = cv2.cvtColor(img_orig, cv2.COLOR_RGB2HSV) # RGB -> HSV\n",
    "hsv[..., 0] = (hsv[..., 0] + 90) % 180 # Hue of opencv is defined [0, 180]\n",
    "img_hsv = cv2.cvtColor(hsv, cv2.COLOR_HSV2RGB) # HSV -> RGB\n",
    "\n",
    "plt.figure(figsize=(12, 4))\n",
    "plt.subplot(1, 2, 1); plt.title('input'); plt.imshow(img_orig)\n",
    "plt.subplot(1, 2, 2); plt.title('answer'); plt.imshow(img_hsv)\n",
    "plt.show()"
   ]
  },
  {
   "cell_type": "markdown",
   "metadata": {},
   "source": [
    "### H,S,Vをそれぞれ見てみる"
   ]
  },
  {
   "cell_type": "code",
   "execution_count": null,
   "metadata": {},
   "outputs": [],
   "source": [
    "plt.figure(figsize=(12, 4))\n",
    "plt.subplot(1, 4, 1); plt.title('input'); plt.imshow(img_orig)\n",
    "plt.subplot(1, 4, 2); plt.title('Hue'); plt.imshow(hsv[..., 0]/360, cmap='hsv')\n",
    "plt.subplot(1, 4, 3); plt.title('Saturation'); plt.imshow(hsv[..., 1], cmap='gray')\n",
    "plt.subplot(1, 4, 4); plt.title('Value'); plt.imshow(hsv[..., 2], cmap='gray')\n",
    "plt.show()"
   ]
  },
  {
   "cell_type": "markdown",
   "metadata": {},
   "source": [
    "### 他の画像でも見てみる"
   ]
  },
  {
   "cell_type": "code",
   "execution_count": null,
   "metadata": {},
   "outputs": [],
   "source": [
    "img_another = io.imread('./img/fish02.jpg')\n",
    "\n",
    "hsv = cv2.cvtColor(img_another, cv2.COLOR_RGB2HSV)\n",
    "\n",
    "plt.figure(figsize=(12, 4))\n",
    "plt.subplot(1, 4, 1); plt.title('input'); plt.imshow(img_another)\n",
    "plt.subplot(1, 4, 2); plt.title('Hue'); plt.imshow(hsv[..., 0], cmap='hsv')\n",
    "plt.subplot(1, 4, 3); plt.title('Saturation'); plt.imshow(hsv[..., 1], cmap='gray')\n",
    "plt.subplot(1, 4, 4); plt.title('Value'); plt.imshow(hsv[..., 2], cmap='gray')\n",
    "plt.show()"
   ]
  },
  {
   "cell_type": "markdown",
   "metadata": {},
   "source": [
    "### Hueを見てみる"
   ]
  },
  {
   "cell_type": "code",
   "execution_count": null,
   "metadata": {},
   "outputs": [],
   "source": [
    "plt.figure(figsize=(12, 4))\n",
    "plt.subplot(1, 3, 1); plt.title('input'); plt.imshow(img_another)\n",
    "plt.subplot(1, 3, 2); plt.title('input hue'); plt.imshow(hsv[..., 0]/360, cmap='hsv')\n",
    "plt.subplot(1, 3, 3); plt.title('Hue color')\n",
    "for i in range(360):\n",
    "    plt.vlines(i, 0, 1, color=cm.hsv(i / 360))\n",
    "    \n",
    "plt.show()"
   ]
  },
  {
   "cell_type": "markdown",
   "metadata": {},
   "source": [
    "## Q.6. 減色, color subtraction\n",
    "ここでは画像の値を256^3から4^3の値に減色する。  \n",
    "すなわちR,G,Bを{32, 96, 160, 224}の4値に減色する。"
   ]
  },
  {
   "cell_type": "code",
   "execution_count": null,
   "metadata": {},
   "outputs": [],
   "source": [
    "def color_subtraction(img, div=4):\n",
    "    th = 256 // div\n",
    "    return np.clip(img // th * th + th // 2, 0, 255)\n",
    "\n",
    "# 減色処理\n",
    "img_sub = color_subtraction(img_orig)\n",
    "\n",
    "plt.figure(figsize=(12, 4))\n",
    "plt.subplot(1, 2, 1); plt.title('input'); plt.imshow(img_orig)\n",
    "plt.subplot(1, 2, 2); plt.title('answer'); plt.imshow(img_sub)\n",
    "plt.show()"
   ]
  },
  {
   "cell_type": "markdown",
   "metadata": {},
   "source": [
    "### 減色を8値にしてみる\n",
    "8値でも元の画像に相当近い見た目を保持できている。  \n",
    "色空間はかなり削減できる。"
   ]
  },
  {
   "cell_type": "code",
   "execution_count": null,
   "metadata": {},
   "outputs": [],
   "source": [
    "img_sub = color_subtraction(img_orig, div=8)\n",
    "\n",
    "plt.figure(figsize=(12, 4))\n",
    "plt.subplot(1, 2, 1); plt.title('input'); plt.imshow(img_orig)\n",
    "plt.subplot(1, 2, 2); plt.title('answer'); plt.imshow(img_sub)\n",
    "plt.show()"
   ]
  },
  {
   "cell_type": "markdown",
   "metadata": {},
   "source": [
    "## Q.7. 平均プーリング, average pooling\n",
    "ここでは画像をグリッド分割し、各領域内の平均値でその領域内の値を埋める。  \n",
    "この操作をプーリング処理と呼ぶ。"
   ]
  },
  {
   "cell_type": "code",
   "execution_count": null,
   "metadata": {},
   "outputs": [],
   "source": [
    "def pool_average(img, ksize_h=8, ksize_w=8):\n",
    "    _img = img.copy().astype(np.float32)\n",
    "    \n",
    "    # padding\n",
    "    h, w = img.shape[:2]\n",
    "    outer_h = h % ksize_h\n",
    "    pad_top = outer_h // 2\n",
    "    pad_bottom = outer_h - pad_top\n",
    "    outer_w = w % ksize_w\n",
    "    pad_left = outer_w // 2\n",
    "    pad_right = outer_w - pad_left\n",
    "    \n",
    "    _img = np.pad(_img, [(pad_top, pad_bottom), (pad_left, pad_right), (0, 0)], 'edge')\n",
    "    out = np.zeros_like(_img)\n",
    "    \n",
    "    new_h, new_w = out.shape[:2]\n",
    "    c = 1 if len(out.shape) == 2 else out.shape[2]\n",
    "    \n",
    "    # filtering\n",
    "    for iy in range(0, new_h, ksize_h):\n",
    "        for ix in range(0, new_w, ksize_w):\n",
    "            for ic in range(c):\n",
    "                out[iy:iy+ksize_h, ix:ix+ksize_w, ic] = _img[iy:iy+ksize_h, ix:ix+ksize_w, ic].mean()\n",
    "                \n",
    "    out = out[pad_top:pad_top+h, pad_left:pad_left+w]\n",
    "    \n",
    "    return np.clip(out, 0, 255).astype(np.uint8)\n",
    "\n",
    "img_pool = pool_average(img_orig)\n",
    "\n",
    "plt.figure(figsize=(12, 4))\n",
    "plt.subplot(1, 2, 1); plt.title('input'); plt.imshow(img_orig)\n",
    "plt.subplot(1, 2, 2); plt.title('answer'); plt.imshow(img_pool)\n",
    "plt.show()"
   ]
  },
  {
   "cell_type": "markdown",
   "metadata": {},
   "source": [
    "### フィルタサイズを大きくすると\n",
    "フィルタサイズが大きくなると、ピンボケの度合いが強くなる"
   ]
  },
  {
   "cell_type": "code",
   "execution_count": null,
   "metadata": {},
   "outputs": [],
   "source": [
    "img_pool = pool_average(img_orig, ksize_h=16, ksize_w=16)\n",
    "\n",
    "plt.figure(figsize=(12, 4))\n",
    "plt.subplot(1, 2, 1); plt.title('input'); plt.imshow(img_orig)\n",
    "plt.subplot(1, 2, 2); plt.title('answer'); plt.imshow(img_pool)\n",
    "plt.show()"
   ]
  },
  {
   "cell_type": "markdown",
   "metadata": {},
   "source": [
    "## Q.8. 最大プーリング, max pooling\n",
    "平均値ではなく、最大値でプーリング処理を行う。"
   ]
  },
  {
   "cell_type": "code",
   "execution_count": null,
   "metadata": {},
   "outputs": [],
   "source": [
    "def pool_max(img, ksize_h=8, ksize_w=8):\n",
    "    _img = img.copy().astype(np.float32)\n",
    "    \n",
    "    # padding\n",
    "    h, w = img.shape[:2]\n",
    "    outer_h = h % ksize_h\n",
    "    pad_top = outer_h // 2\n",
    "    pad_bottom = outer_h - pad_top\n",
    "    outer_w = w % ksize_w\n",
    "    pad_left = outer_w // 2\n",
    "    pad_right = outer_w - pad_left\n",
    "    \n",
    "    _img = np.pad(_img, [(pad_top, pad_bottom), (pad_left, pad_right), (0, 0)], 'edge')\n",
    "    out = np.zeros_like(_img)\n",
    "    \n",
    "    new_h, new_w = out.shape[:2]\n",
    "    c = 1 if len(out.shape) == 2 else out.shape[2]\n",
    "    \n",
    "    # filtering\n",
    "    for iy in range(0, new_h, ksize_h):\n",
    "        for ix in range(0, new_w, ksize_w):\n",
    "            for ic in range(c):\n",
    "                out[iy:iy+ksize_h, ix:ix+ksize_w, ic] = _img[iy:iy+ksize_h, ix:ix+ksize_w, ic].max()\n",
    "    \n",
    "    out = out[pad_top:pad_top+h, pad_left:pad_left+w]\n",
    "    return np.clip(out, 0, 255).astype(np.uint8)\n",
    "\n",
    "img_pool = pool_max(img_orig)\n",
    "\n",
    "plt.figure(figsize=(12, 4))\n",
    "plt.subplot(1, 2, 1); plt.title('input'); plt.imshow(img_orig)\n",
    "plt.subplot(1, 2, 2); plt.title('answer'); plt.imshow(img_pool)\n",
    "plt.show()"
   ]
  },
  {
   "cell_type": "code",
   "execution_count": null,
   "metadata": {},
   "outputs": [],
   "source": []
  }
 ],
 "metadata": {
  "kernelspec": {
   "display_name": "Python 3",
   "language": "python",
   "name": "python3"
  },
  "language_info": {
   "codemirror_mode": {
    "name": "ipython",
    "version": 3
   },
   "file_extension": ".py",
   "mimetype": "text/x-python",
   "name": "python",
   "nbconvert_exporter": "python",
   "pygments_lexer": "ipython3",
   "version": "3.7.4"
  }
 },
 "nbformat": 4,
 "nbformat_minor": 4
}
