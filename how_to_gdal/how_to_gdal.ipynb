{
 "cells": [
  {
   "cell_type": "code",
   "execution_count": null,
   "metadata": {},
   "outputs": [],
   "source": [
    "import gdal\n",
    "import numpy as np\n",
    "import matplotlib.pyplot as plt"
   ]
  },
  {
   "cell_type": "code",
   "execution_count": null,
   "metadata": {},
   "outputs": [],
   "source": [
    "#LANDSAT-8 ファイル指定\n",
    "fpath5=  \"/vsicurl/http://landsat-pds.s3.amazonaws.com/c1/L8/107/035/LC08_L1TP_107035_20200429_20200509_01_T1/LC08_L1TP_107035_20200429_20200509_01_T1_B5.TIF\""
   ]
  },
  {
   "cell_type": "code",
   "execution_count": null,
   "metadata": {},
   "outputs": [],
   "source": [
    "# LANDSAT-8 gdal.Openを利用して画像を読み込む\n",
    "band5_image = gdal.Open(fpath5)"
   ]
  },
  {
   "cell_type": "code",
   "execution_count": null,
   "metadata": {},
   "outputs": [],
   "source": [
    "# IR_Band_arrayという変数に、近赤外バンドの配列を入れる\n",
    "NIR_Band_array = band5_image.ReadAsArray()\n",
    "\n",
    "plt.imshow(NIR_Band_array)"
   ]
  },
  {
   "cell_type": "code",
   "execution_count": null,
   "metadata": {},
   "outputs": [],
   "source": [
    "# ヒストグラムの表示\n",
    "plt.figure(figsize=(20, 3))\n",
    "plt.hist(NIR_Band_array.flatten(), bins=300, range=(1, 65545))\n",
    "plt.show()"
   ]
  },
  {
   "cell_type": "code",
   "execution_count": null,
   "metadata": {},
   "outputs": [],
   "source": [
    "# 近赤外線バンドを表示\n",
    "plt.figure(figsize=(10, 10))\n",
    "plt.imshow(NIR_Band_array, vmin=6000, vmax=25000, cmap='gray')\n",
    "plt.title('NIR_Band', fontsize=18)\n",
    "plt.colorbar()\n",
    "plt.show()"
   ]
  },
  {
   "cell_type": "code",
   "execution_count": null,
   "metadata": {},
   "outputs": [],
   "source": [
    "# 青、緑、赤の三つのバンドについて、それぞれヒストグラムを表示\n",
    "fpath2 = \"/vsicurl/http://landsat-pds.s3.amazonaws.com/c1/L8/107/035/LC08_L1TP_107035_20200429_20200509_01_T1/LC08_L1TP_107035_20200429_20200509_01_T1_B2.TIF\"\n",
    "fpath3 = \"/vsicurl/http://landsat-pds.s3.amazonaws.com/c1/L8/107/035/LC08_L1TP_107035_20200429_20200509_01_T1/LC08_L1TP_107035_20200429_20200509_01_T1_B3.TIF\"\n",
    "fpath4 = \"/vsicurl/http://landsat-pds.s3.amazonaws.com/c1/L8/107/035/LC08_L1TP_107035_20200429_20200509_01_T1/LC08_L1TP_107035_20200429_20200509_01_T1_B4.TIF\"\n",
    "\n",
    "band2_image = gdal.Open(fpath2)\n",
    "band3_image = gdal.Open(fpath3)\n",
    "band4_image = gdal.Open(fpath4)\n",
    "\n",
    "BlueBand_array = band2_image.ReadAsArray()\n",
    "GreenBand_array = band3_image.ReadAsArray()\n",
    "RedBand_array = band4_image.ReadAsArray()"
   ]
  },
  {
   "cell_type": "code",
   "execution_count": null,
   "metadata": {},
   "outputs": [],
   "source": [
    "plt.figure(figsize=(20, 9))\n",
    "\n",
    "# 青配列のヒストグラム表示\n",
    "plt.subplot(3, 1, 1); plt.title('BlueBand', fontsize=10)\n",
    "plt.hist(BlueBand_array.flatten(), bins=300, range=(1, 65545))\n",
    "\n",
    "# 緑配列のヒストグラム表示\n",
    "plt.subplot(3, 1, 2); plt.title('GreenBand', fontsize=10)\n",
    "plt.hist(GreenBand_array.flatten(), bins=300, range=(1, 65545))\n",
    "\n",
    "# 赤配列のヒストグラム表示\n",
    "plt.subplot(3, 1, 3); plt.title('RedBand', fontsize=10)\n",
    "plt.hist(RedBand_array.flatten(), bins=300, range=(1, 65545))\n",
    "\n",
    "plt.show()"
   ]
  },
  {
   "cell_type": "code",
   "execution_count": null,
   "metadata": {},
   "outputs": [],
   "source": [
    "# 各バンドの画像を表示\n",
    "plt.figure(figsize=(30, 30))\n",
    "\n",
    "# 青配列の画像を表示\n",
    "plt.subplot(1, 3, 1); plt.title('BlueBand')\n",
    "plt.imshow(BlueBand_array, vmin=8000, vmax=15000, cmap='Blues')\n",
    "\n",
    "# 緑配列の画像を表示\n",
    "plt.subplot(1, 3, 2); plt.title('GreenBand')\n",
    "plt.imshow(GreenBand_array, vmin=7000, vmax=13000, cmap='Greens')\n",
    "\n",
    "# 赤配列の画像を表示\n",
    "plt.subplot(1, 3, 3); plt.title('RedBand')\n",
    "plt.imshow(RedBand_array, vmin=6000, vmax=12000, cmap='Reds')\n",
    "\n",
    "plt.show()"
   ]
  },
  {
   "cell_type": "markdown",
   "metadata": {},
   "source": [
    "### 画像の切り出し"
   ]
  },
  {
   "cell_type": "markdown",
   "metadata": {},
   "source": [
    "### 方法①"
   ]
  },
  {
   "cell_type": "code",
   "execution_count": null,
   "metadata": {},
   "outputs": [],
   "source": [
    "# 全体画像から、東京都の切り出し位置を設定\n",
    "minX = 2700\n",
    "minY = 5100\n",
    "deltaX = 300\n",
    "deltaY = 300\n",
    "\n",
    "# 出力画像の名前を設定\n",
    "cut_NIR_path = 'tokyo_NIR.tif'\n",
    "\n",
    "ds = gdal.Translate(cut_NIR_path, fpath5, srcWin=[minX, minY, deltaX, deltaY])\n",
    "ds = None"
   ]
  },
  {
   "cell_type": "code",
   "execution_count": null,
   "metadata": {},
   "outputs": [],
   "source": [
    "# 切り出した画像の表示\n",
    "cut_NIR_img = gdal.Open(cut_NIR_path)\n",
    "cut_NIR_array = cut_NIR_img.ReadAsArray()\n",
    "\n",
    "plt.figure(figsize=(10, 10))\n",
    "plt.title('NIRBand(TOKYO)')\n",
    "plt.imshow(cut_NIR_array, vmin=6000, vmax=25000, cmap='Oranges')\n",
    "plt.colorbar()\n",
    "plt.show()"
   ]
  },
  {
   "cell_type": "markdown",
   "metadata": {},
   "source": [
    "### 方法②"
   ]
  },
  {
   "cell_type": "code",
   "execution_count": null,
   "metadata": {},
   "outputs": [],
   "source": [
    "fpath4 = \"/vsicurl/http://landsat-pds.s3.amazonaws.com/c1/L8/107/035/LC08_L1TP_107035_20200429_20200509_01_T1/LC08_L1TP_107035_20200429_20200509_01_T1_B4.TIF\"\n",
    "fpath8 = \"/vsicurl/http://landsat-pds.s3.amazonaws.com/c1/L8/107/035/LC08_L1TP_107035_20200429_20200509_01_T1/LC08_L1TP_107035_20200429_20200509_01_T1_B8.TIF\"\n",
    "\n",
    "# ファイル名を定義\n",
    "latlon_band4_path = \"latlon_band4_img.tif\"\n",
    "latlon_band8_path = \"latlon_band8_img.tif\"\n",
    "\n",
    "# 座標系を変換\n",
    "ds = gdal.Warp(latlon_band4_path, fpath4, srcSRS=\"EPSG:32654\", dstSRS=\"EPSG:4326\")\n",
    "ds = gdal.Warp(latlon_band8_path, fpath8, srcSRS=\"EPSG:32654\", dstSRS=\"EPSG:4326\")\n",
    "ds = None"
   ]
  },
  {
   "cell_type": "code",
   "execution_count": null,
   "metadata": {},
   "outputs": [],
   "source": [
    "# 画像の切り出しを実施\n",
    "cut_latlon_band4_img = gdal.Open(latlon_band4_path)\n",
    "cut_latlon_band8_img = gdal.Open(latlon_band8_path)\n",
    "\n",
    "cutRedBand_array = cut_latlon_band4_img.ReadAsArray()\n",
    "cutPanBand_array = cut_latlon_band8_img.ReadAsArray()\n",
    "\n",
    "# 画像を表示\n",
    "plt.figure(figsize=(20, 20))\n",
    "plt.subplot(1, 2, 1); plt.title('RedBand')\n",
    "plt.imshow(cutRedBand_array, vmin=6000, vmax=12000, cmap='gray')\n",
    "plt.subplot(1, 2, 2); plt.title('PanchroRed')\n",
    "plt.imshow(cutPanBand_array, vmin=5000, vmax=15000, cmap='gray')\n",
    "plt.show()"
   ]
  },
  {
   "cell_type": "markdown",
   "metadata": {},
   "source": [
    "## カラー合成"
   ]
  },
  {
   "cell_type": "code",
   "execution_count": null,
   "metadata": {},
   "outputs": [],
   "source": [
    "fpath2 = \"/vsicurl/http://landsat-pds.s3.amazonaws.com/c1/L8/107/035/LC08_L1TP_107035_20200429_20200509_01_T1/LC08_L1TP_107035_20200429_20200509_01_T1_B2.TIF\"\n",
    "fpath3 = \"/vsicurl/http://landsat-pds.s3.amazonaws.com/c1/L8/107/035/LC08_L1TP_107035_20200429_20200509_01_T1/LC08_L1TP_107035_20200429_20200509_01_T1_B3.TIF\"\n",
    "fpath4 = \"/vsicurl/http://landsat-pds.s3.amazonaws.com/c1/L8/107/035/LC08_L1TP_107035_20200429_20200509_01_T1/LC08_L1TP_107035_20200429_20200509_01_T1_B4.TIF\"\n",
    "fpath5=  \"/vsicurl/http://landsat-pds.s3.amazonaws.com/c1/L8/107/035/LC08_L1TP_107035_20200429_20200509_01_T1/LC08_L1TP_107035_20200429_20200509_01_T1_B5.TIF\"\n",
    "\n",
    "# 出力ファイル名\n",
    "band2_8bit_path = \"Band2_8bit.tif\"\n",
    "band3_8bit_path = \"Band3_8bit.tif\"\n",
    "band4_8bit_path = \"Band4_8bit.tif\"\n",
    "band5_8bit_path = \"Band5_8bit.tif\"\n",
    "\n",
    "# 切り出しの実施\n",
    "minX = 2400\n",
    "minY = 4500\n",
    "deltaX = 1500\n",
    "deltaY = 1500\n",
    "\n",
    "gdal.Translate(band2_8bit_path, fpath2, outputType=gdal.GDT_Byte,\n",
    "              scaleParams=[[9700, 13400]], srcWin=[minX, minY, deltaX, deltaY])\n",
    "gdal.Translate(band3_8bit_path, fpath3, outputType=gdal.GDT_Byte, \n",
    "              scaleParams=[[8100, 12800]], srcWin=[minX, minY, deltaX, deltaY])\n",
    "gdal.Translate(band4_8bit_path, fpath4, outputType=gdal.GDT_Byte,\n",
    "              scaleParams=[[7000, 13000]], srcWin=[minX, minY, deltaX, deltaY])\n",
    "gdal.Translate(band5_8bit_path, fpath5, outputType=gdal.GDT_Byte,\n",
    "              scaleParams=[[6000, 18300]], srcWin=[minX, minY, deltaX, deltaY])\n",
    "\n",
    "b2_image = gdal.Open(band2_8bit_path)\n",
    "b3_image = gdal.Open(band3_8bit_path)\n",
    "b4_image = gdal.Open(band4_8bit_path)\n",
    "b5_image = gdal.Open(band5_8bit_path)\n",
    "\n",
    "BlueBand_array = b2_image.ReadAsArray()\n",
    "GreenBand_array = b3_image.ReadAsArray()\n",
    "RedBand_array = b4_image.ReadAsArray()\n",
    "NIRBand_array = b5_image.ReadAsArray()"
   ]
  },
  {
   "cell_type": "code",
   "execution_count": null,
   "metadata": {},
   "outputs": [],
   "source": [
    "# トゥルーカラー画像を作成\n",
    "\n",
    "XSize = b2_image.RasterXSize\n",
    "YSize = b2_image.RasterYSize\n",
    "dtype = gdal.GDT_Byte\n",
    "band = 3\n",
    "\n",
    "out_True_path = \"TrueColor_TOKYO.tif\"\n",
    "\n",
    "# 空の出力ファイルを作成\n",
    "out1= gdal.GetDriverByName('GTiff').Create(out_True_path, Xsize, Ysize, \n",
    "                                           band, dtype)\n",
    "out1.SetProjection(b2_image.GetProjection()) \n",
    "out1.SetGeoTransform(b2_image.GetGeoTransform())\n",
    "\n",
    "# 各バンドの書き込み\n",
    "out1.GetRasterBand(1).WriteArray(RedBand_array) \n",
    "out1.GetRasterBand(2).WriteArray(GreenBand_array)\n",
    "out1.GetRasterBand(3).WriteArray(BlueBand_array)\n",
    "out1.FlushCache()"
   ]
  },
  {
   "cell_type": "code",
   "execution_count": null,
   "metadata": {},
   "outputs": [],
   "source": [
    "import matplotlib.image as mpimg\n",
    "\n",
    "image1 = mpimg.imread(out_True_path)\n",
    "\n",
    "plt.figure(figsize=(10, 10))\n",
    "plt.title('True Color TOKYO'); plt.imshow(image1)\n",
    "plt.show()"
   ]
  },
  {
   "cell_type": "code",
   "execution_count": null,
   "metadata": {},
   "outputs": [],
   "source": [
    "# フォールスカラー、ナチュラルカラーの画像も表示\n",
    "\n",
    "## フォールスカラー ##\n",
    "out_False_path = \"FalseColor_TOKYO.tif\"\n",
    "\n",
    "out2 = gdal.GetDriverByName('GTiff').Create(out_False_path, XSize, YSize, \n",
    "                                            band, dtype)\n",
    "out2.SetProjection(b2_image.GetProjection())\n",
    "out2.SetGeoTransform(b2_image.GetGeoTransform())\n",
    "out2.GetRasterBand(1).WriteArray(NIRBand_array)\n",
    "out2.GetRasterBand(2).WriteArray(RedBand_array)\n",
    "out2.GetRasterBand(3).WriteArray(GreenBand_array)\n",
    "out2.FlushCache()\n",
    "\n",
    "## ナチュラルカラー ##\n",
    "out_Natural_path = \"NaturalColor_TOKYO.tif\"\n",
    "\n",
    "out3 = gdal.GetDriverByName('GTiff').Create(out_Natural_path, XSize, YSize,\n",
    "                                           band, dtype)\n",
    "out3.SetProjection(b2_image.GetProjection())\n",
    "out3.SetGeoTransform(b2_image.GetGeoTransform())\n",
    "out3.GetRasterBand(1).WriteArray(RedBand_array)\n",
    "out3.GetRasterBand(2).WriteArray(NIRBand_array)\n",
    "out3.GetRasterBand(3).WriteArray(GreenBand_array)\n",
    "out3.FlushCache()"
   ]
  },
  {
   "cell_type": "code",
   "execution_count": null,
   "metadata": {},
   "outputs": [],
   "source": [
    "# 画像の表示\n",
    "plt.figure(figsize=(20, 20))\n",
    "\n",
    "image1 = mpimg.imread(out_True_path)\n",
    "plt.subplot(1, 3, 1); plt.title('True Color TOKYO')\n",
    "plt.imshow(image1)\n",
    "\n",
    "image2 = mpimg.imread(out_False_path)\n",
    "plt.subplot(1, 3, 2); plt.title('False Color TOKYO')\n",
    "plt.imshow(image2)\n",
    "\n",
    "image3 = mpimg.imread(out_Natural_path)\n",
    "plt.subplot(1, 3, 3); plt.title('Natural Color TOKYO')\n",
    "plt.imshow(image3)\n",
    "\n",
    "plt.show()"
   ]
  },
  {
   "cell_type": "code",
   "execution_count": null,
   "metadata": {},
   "outputs": [],
   "source": []
  }
 ],
 "metadata": {
  "kernelspec": {
   "display_name": "Python 3",
   "language": "python",
   "name": "python3"
  },
  "language_info": {
   "codemirror_mode": {
    "name": "ipython",
    "version": 3
   },
   "file_extension": ".py",
   "mimetype": "text/x-python",
   "name": "python",
   "nbconvert_exporter": "python",
   "pygments_lexer": "ipython3",
   "version": "3.7.4"
  }
 },
 "nbformat": 4,
 "nbformat_minor": 4
}
