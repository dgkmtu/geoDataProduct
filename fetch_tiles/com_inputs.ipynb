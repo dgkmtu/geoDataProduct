{
 "cells": [
  {
   "cell_type": "code",
   "execution_count": null,
   "metadata": {},
   "outputs": [],
   "source": [
    "import os\n",
    "from glob import glob\n",
    "from tqdm import tqdm"
   ]
  },
  {
   "cell_type": "code",
   "execution_count": null,
   "metadata": {},
   "outputs": [],
   "source": [
    "output_dir = \"./output/\"\n",
    "dir_lists = [\"std\", \"seamlessphoto\", \"relief\"]"
   ]
  },
  {
   "cell_type": "code",
   "execution_count": null,
   "metadata": {},
   "outputs": [],
   "source": [
    "for dir_name in dir_lists:\n",
    "    search_path = output_dir + dir_name + \"/*.tif\"\n",
    "    file_list = glob(search_path)\n",
    "    print(len(file_list))"
   ]
  },
  {
   "cell_type": "code",
   "execution_count": null,
   "metadata": {},
   "outputs": [],
   "source": [
    "seamlessphoto_list = glob(output_dir + \"seamlessphoto/*.tif\")\n",
    "std_list = glob(output_dir + \"std/*.tif\")\n",
    "relief_list = glob(output_dir + \"relief/*.tif\")"
   ]
  },
  {
   "cell_type": "code",
   "execution_count": null,
   "metadata": {},
   "outputs": [],
   "source": [
    "# seamlessphotoのチェック\n",
    "for seamlessphoto in seamlessphoto_list:\n",
    "    \n",
    "    check_std = seamlessphoto.replace(\"seamlessphoto\", \"std\")\n",
    "    check_relief = seamlessphoto.replace(\"seamlessphoto\", \"relief\")\n",
    "    \n",
    "    if not check_std in std_list or \\\n",
    "       not check_relief in relief_list:\n",
    "        \n",
    "        print(\"False\")\n",
    "        os.remove(seamlessphoto)"
   ]
  },
  {
   "cell_type": "code",
   "execution_count": null,
   "metadata": {},
   "outputs": [],
   "source": [
    "# stdのチェック\n",
    "for std in std_list:\n",
    "    \n",
    "    check_seamlessphoto = std.replace(\"std\", \"seamlessphoto\")\n",
    "    check_relief = std.replace(\"std\", \"relief\")\n",
    "    \n",
    "    if not check_seamlessphoto in seamlessphoto_list or \\\n",
    "       not check_relief in relief_list:\n",
    "        \n",
    "        print(\"False\")\n",
    "        os.remove(std)"
   ]
  },
  {
   "cell_type": "code",
   "execution_count": null,
   "metadata": {},
   "outputs": [],
   "source": [
    "# reliefのチェック\n",
    "for relief in relief_list:\n",
    "    \n",
    "    check_seamlessphoto = relief.replace(\"relief\", \"seamlessphoto\")\n",
    "    check_std = relief.replace(\"relief\", \"std\")\n",
    "    \n",
    "    if not check_seamlessphoto in seamlessphoto_list or \\\n",
    "       not check_std in std_list:\n",
    "        \n",
    "        print(\"False\")\n",
    "        os.remove(relief)"
   ]
  },
  {
   "cell_type": "code",
   "execution_count": null,
   "metadata": {},
   "outputs": [],
   "source": []
  }
 ],
 "metadata": {
  "kernelspec": {
   "display_name": "Python 3",
   "language": "python",
   "name": "python3"
  },
  "language_info": {
   "codemirror_mode": {
    "name": "ipython",
    "version": 3
   },
   "file_extension": ".py",
   "mimetype": "text/x-python",
   "name": "python",
   "nbconvert_exporter": "python",
   "pygments_lexer": "ipython3",
   "version": "3.7.4"
  }
 },
 "nbformat": 4,
 "nbformat_minor": 4
}
