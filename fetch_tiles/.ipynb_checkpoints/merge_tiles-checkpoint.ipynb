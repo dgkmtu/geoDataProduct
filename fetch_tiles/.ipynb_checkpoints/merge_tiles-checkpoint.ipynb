{
 "cells": [
  {
   "cell_type": "code",
   "execution_count": null,
   "metadata": {},
   "outputs": [],
   "source": [
    "import os\n",
    "import subprocess\n",
    "from tqdm import tqdm"
   ]
  },
  {
   "cell_type": "code",
   "execution_count": null,
   "metadata": {},
   "outputs": [],
   "source": [
    "input_dir = \"./output/\" # 入力ディレクトリ\n",
    "dir_lists = [\"std\", \"seamlessphoto\", \"relief\"]\n",
    "output_lists = [\"03_standard_map\", \"04_orho\", \"06_elevation\"]"
   ]
  },
  {
   "cell_type": "code",
   "execution_count": null,
   "metadata": {},
   "outputs": [],
   "source": [
    "for idx, base_dir in tqdm(enumerate(dir_lists)):\n",
    "    base_name = input_dir.split(\"/\")[-2]\n",
    "    target_dir = input_dir + base_dir + \"/\"\n",
    "    output_dir = \"./merge_data/{directory}/\".format(directory=output_lists[idx])\n",
    "    output_name = output_dir + \"{filename}.tif\".format(filename=base_name)\n",
    "    filenames = os.listdir(target_dir)\n",
    "    \n",
    "    with open(\"./list.txt\", \"w\", encoding=\"utf-8\") as f:\n",
    "        for name in filenames:\n",
    "            root, ext = os.path.splitext(name)\n",
    "            f.writelines(\"\\\"{directory}{filename}\\\"\\n\".format(directory=target_dir,\n",
    "                                                              filename=name))\n",
    "    if not(os.path.exists(output_dir)):\n",
    "        os.makedirs(output_dir)\n",
    "        \n",
    "    cmd = f\"python /opt/anaconda3/bin/gdal_merge.py -o {output_name} --optfile list.txt\"\n",
    "    result = subprocess.call(cmd, shell=True)\n",
    "    os.remove(\"list.txt\")"
   ]
  },
  {
   "cell_type": "code",
   "execution_count": null,
   "metadata": {},
   "outputs": [],
   "source": [
    "#!which gdal_merge.py"
   ]
  }
 ],
 "metadata": {
  "kernelspec": {
   "display_name": "Python 3",
   "language": "python",
   "name": "python3"
  },
  "language_info": {
   "codemirror_mode": {
    "name": "ipython",
    "version": 3
   },
   "file_extension": ".py",
   "mimetype": "text/x-python",
   "name": "python",
   "nbconvert_exporter": "python",
   "pygments_lexer": "ipython3",
   "version": "3.7.4"
  }
 },
 "nbformat": 4,
 "nbformat_minor": 4
}
