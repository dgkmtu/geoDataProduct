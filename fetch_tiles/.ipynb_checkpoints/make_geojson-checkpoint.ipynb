{
 "cells": [
  {
   "cell_type": "code",
   "execution_count": null,
   "metadata": {},
   "outputs": [],
   "source": [
    "import json"
   ]
  },
  {
   "cell_type": "code",
   "execution_count": null,
   "metadata": {},
   "outputs": [],
   "source": [
    "from IPython.display import HTML\n",
    "HTML(r'<iframe src=\"https://www.keene.edu/campus/maps/tool/\" width=\"960\" height=\"480\" frameborder=\"0\"></iframe>')"
   ]
  },
  {
   "cell_type": "code",
   "execution_count": null,
   "metadata": {},
   "outputs": [],
   "source": [
    "AREA = [\n",
    "    [\n",
    "      [\n",
    "        139.7694397,\n",
    "        35.761279\n",
    "      ],\n",
    "      [\n",
    "        139.7642899,\n",
    "        35.6846293\n",
    "      ],\n",
    "      [\n",
    "        139.8762131,\n",
    "        35.6751474\n",
    "      ],\n",
    "      [\n",
    "        139.878273,\n",
    "        35.7568214\n",
    "      ],\n",
    "      [\n",
    "        139.7684097,\n",
    "        35.762672\n",
    "      ]\n",
    "    ]\n",
    "  ]"
   ]
  },
  {
   "cell_type": "code",
   "execution_count": null,
   "metadata": {},
   "outputs": [],
   "source": [
    "with open(\"./geojson/sample-aoi.geojson\",\"r\") as f:\n",
    "    dic = json.load(f)\n",
    "dic[\"features\"][0][\"geometry\"][\"coordinates\"] = AREA\n",
    "\n",
    "with open(\"./geojson/result-aoi.geojson\", \"w\") as f:\n",
    "    json.dump(dic, f)"
   ]
  }
 ],
 "metadata": {
  "kernelspec": {
   "display_name": "Python 3",
   "language": "python",
   "name": "python3"
  },
  "language_info": {
   "codemirror_mode": {
    "name": "ipython",
    "version": 3
   },
   "file_extension": ".py",
   "mimetype": "text/x-python",
   "name": "python",
   "nbconvert_exporter": "python",
   "pygments_lexer": "ipython3",
   "version": "3.7.4"
  }
 },
 "nbformat": 4,
 "nbformat_minor": 4
}
